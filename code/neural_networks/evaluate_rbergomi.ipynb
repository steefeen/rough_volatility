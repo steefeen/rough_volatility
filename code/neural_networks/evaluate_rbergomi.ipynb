{
 "cells": [
  {
   "cell_type": "markdown",
   "metadata": {},
   "source": [
    "# Evaluate rough Bergomi model part 1-6\n",
    "After running all notebooks containing the Bergomi models (train_rbergomi_1...6-complete.ipynb and train_rbergomi_1...6.ipynb) with or without the training parts, you can run this notebook to get some evaluations on these models."
   ]
  },
  {
   "cell_type": "code",
   "execution_count": 1,
   "metadata": {},
   "outputs": [
    {
     "data": {
      "text/plain": [
       "'plaidml'"
      ]
     },
     "execution_count": 1,
     "metadata": {},
     "output_type": "execute_result"
    }
   ],
   "source": [
    "import os\n",
    "import plaidml.keras\n",
    "plaidml.keras.install_backend()\n",
    "os.environ[\"KERAS_BACKEND\"] = \"plaidml.keras.backend\"\n",
    "\n",
    "import keras\n",
    "keras.backend.backend()"
   ]
  },
  {
   "cell_type": "code",
   "execution_count": 2,
   "metadata": {},
   "outputs": [
    {
     "data": {
      "text/html": [
       "<style>.container { width:95% !important; }</style>"
      ],
      "text/plain": [
       "<IPython.core.display.HTML object>"
      ]
     },
     "metadata": {},
     "output_type": "display_data"
    }
   ],
   "source": [
    "from IPython.core.display import display, HTML\n",
    "display(HTML(\"<style>.container { width:95% !important; }</style>\"))\n",
    "\n",
    "import os, sys, pandas as pd, numpy as np\n",
    "wd = os.getcwd()\n",
    "\n",
    "path_seperator = os.path.sep\n",
    "\n",
    "sys.path.append(wd + path_seperator + 'optimizers')\n",
    "from AdamW import AdamW\n",
    "from QHAdam import QHAdam"
   ]
  },
  {
   "cell_type": "markdown",
   "metadata": {},
   "source": [
    "# Evaluation of all models"
   ]
  },
  {
   "cell_type": "code",
   "execution_count": 3,
   "metadata": {},
   "outputs": [
    {
     "name": "stderr",
     "output_type": "stream",
     "text": [
      "INFO:plaidml:Opening device \"metal_amd_radeon_pro_450.0\"\n"
     ]
    }
   ],
   "source": [
    "percentiles = [0.5, 0.75, 0.95, 0.99, 0.999, 0.9999, 1.0]\n",
    "optimizers=[keras.optimizers.Adam(), AdamW(), QHAdam()]\n",
    "all_optimizers = [\"Adam reference\"] + optimizers\n",
    "\n",
    "dfs = []\n",
    "for batch_size in [32, 128]:\n",
    "    df = pd.DataFrame(columns = percentiles)\n",
    "    for optimizer in all_optimizers:\n",
    "        if type(optimizer) == str:\n",
    "            file_end = ''\n",
    "        else: \n",
    "            file_end = '_' + optimizer.__class__.__name__ + '_' + str(batch_size) \n",
    "\n",
    "        predictions_list= []\n",
    "        for model_part in [1,2,3,4,5,6]:\n",
    "            predictions_list.append(pd.read_csv(wd + path_seperator + 'data' + path_seperator + 'neural_network_weights' + path_seperator + 'rbergomi' + path_seperator + 'predictions' + path_seperator + 'pred' + str(model_part) + file_end + '.csv', delimiter=\",\", header = None, skiprows=1))\n",
    "\n",
    "        predictions = pd.concat(predictions_list)\n",
    "        difference = abs(predictions.iloc[:,0]-predictions.iloc[:,1])\n",
    "        precent = difference / predictions.iloc[:,0]\n",
    "\n",
    "        q_list = []\n",
    "        for percentile in [0.5, 0.75, 0.95, 0.99, 0.999, 0.9999, 1.0]:\n",
    "            q_list.append(np.quantile(precent, percentile))\n",
    "\n",
    "        df = df.append(pd.DataFrame([np.array(q_list) * 100], columns=percentiles))\n",
    "        \n",
    "    df = df.reset_index(drop = True)\n",
    "    df = df.rename(index={0: all_optimizers[0], 1: all_optimizers[1].__class__.__name__, 2: all_optimizers[2].__class__.__name__, 3: all_optimizers[3].__class__.__name__ })\n",
    "    df.columns.name = \"Optimizer / percentile\"\n",
    "    dfs.append(df)"
   ]
  },
  {
   "cell_type": "markdown",
   "metadata": {},
   "source": [
    "## Absolute relative errors with batch size of 32 during the first training part"
   ]
  },
  {
   "cell_type": "code",
   "execution_count": 4,
   "metadata": {},
   "outputs": [
    {
     "data": {
      "text/html": [
       "<style  type=\"text/css\" >\n",
       "</style><table id=\"T_838b7b64_925a_11eb_a2c0_784f439796cd\" style=\"font-size: 15px\"><thead>    <tr>        <th class=\"index_name level0\" >Optimizer / percentile</th>        <th class=\"col_heading level0 col0\" >0.5</th>        <th class=\"col_heading level0 col1\" >0.75</th>        <th class=\"col_heading level0 col2\" >0.95</th>        <th class=\"col_heading level0 col3\" >0.99</th>        <th class=\"col_heading level0 col4\" >0.999</th>        <th class=\"col_heading level0 col5\" >0.9999</th>        <th class=\"col_heading level0 col6\" >1.0</th>    </tr></thead><tbody>\n",
       "                <tr>\n",
       "                        <th id=\"T_838b7b64_925a_11eb_a2c0_784f439796cdlevel0_row0\" class=\"row_heading level0 row0\" >Adam reference</th>\n",
       "                        <td id=\"T_838b7b64_925a_11eb_a2c0_784f439796cdrow0_col0\" class=\"data row0 col0\" >0.178474</td>\n",
       "                        <td id=\"T_838b7b64_925a_11eb_a2c0_784f439796cdrow0_col1\" class=\"data row0 col1\" >0.369853</td>\n",
       "                        <td id=\"T_838b7b64_925a_11eb_a2c0_784f439796cdrow0_col2\" class=\"data row0 col2\" >1.028009</td>\n",
       "                        <td id=\"T_838b7b64_925a_11eb_a2c0_784f439796cdrow0_col3\" class=\"data row0 col3\" >2.438705</td>\n",
       "                        <td id=\"T_838b7b64_925a_11eb_a2c0_784f439796cdrow0_col4\" class=\"data row0 col4\" >7.551112</td>\n",
       "                        <td id=\"T_838b7b64_925a_11eb_a2c0_784f439796cdrow0_col5\" class=\"data row0 col5\" >18.095318</td>\n",
       "                        <td id=\"T_838b7b64_925a_11eb_a2c0_784f439796cdrow0_col6\" class=\"data row0 col6\" >388.898734</td>\n",
       "            </tr>\n",
       "            <tr>\n",
       "                        <th id=\"T_838b7b64_925a_11eb_a2c0_784f439796cdlevel0_row1\" class=\"row_heading level0 row1\" >Adam</th>\n",
       "                        <td id=\"T_838b7b64_925a_11eb_a2c0_784f439796cdrow1_col0\" class=\"data row1 col0\" >0.173790</td>\n",
       "                        <td id=\"T_838b7b64_925a_11eb_a2c0_784f439796cdrow1_col1\" class=\"data row1 col1\" >0.356891</td>\n",
       "                        <td id=\"T_838b7b64_925a_11eb_a2c0_784f439796cdrow1_col2\" class=\"data row1 col2\" >0.992514</td>\n",
       "                        <td id=\"T_838b7b64_925a_11eb_a2c0_784f439796cdrow1_col3\" class=\"data row1 col3\" >2.401761</td>\n",
       "                        <td id=\"T_838b7b64_925a_11eb_a2c0_784f439796cdrow1_col4\" class=\"data row1 col4\" >7.664393</td>\n",
       "                        <td id=\"T_838b7b64_925a_11eb_a2c0_784f439796cdrow1_col5\" class=\"data row1 col5\" >19.242425</td>\n",
       "                        <td id=\"T_838b7b64_925a_11eb_a2c0_784f439796cdrow1_col6\" class=\"data row1 col6\" >192.109987</td>\n",
       "            </tr>\n",
       "            <tr>\n",
       "                        <th id=\"T_838b7b64_925a_11eb_a2c0_784f439796cdlevel0_row2\" class=\"row_heading level0 row2\" >AdamW</th>\n",
       "                        <td id=\"T_838b7b64_925a_11eb_a2c0_784f439796cdrow2_col0\" class=\"data row2 col0\" >0.162849</td>\n",
       "                        <td id=\"T_838b7b64_925a_11eb_a2c0_784f439796cdrow2_col1\" class=\"data row2 col1\" >0.340128</td>\n",
       "                        <td id=\"T_838b7b64_925a_11eb_a2c0_784f439796cdrow2_col2\" class=\"data row2 col2\" >0.968896</td>\n",
       "                        <td id=\"T_838b7b64_925a_11eb_a2c0_784f439796cdrow2_col3\" class=\"data row2 col3\" >2.308853</td>\n",
       "                        <td id=\"T_838b7b64_925a_11eb_a2c0_784f439796cdrow2_col4\" class=\"data row2 col4\" >7.160003</td>\n",
       "                        <td id=\"T_838b7b64_925a_11eb_a2c0_784f439796cdrow2_col5\" class=\"data row2 col5\" >18.563294</td>\n",
       "                        <td id=\"T_838b7b64_925a_11eb_a2c0_784f439796cdrow2_col6\" class=\"data row2 col6\" >76.540189</td>\n",
       "            </tr>\n",
       "            <tr>\n",
       "                        <th id=\"T_838b7b64_925a_11eb_a2c0_784f439796cdlevel0_row3\" class=\"row_heading level0 row3\" >QHAdam</th>\n",
       "                        <td id=\"T_838b7b64_925a_11eb_a2c0_784f439796cdrow3_col0\" class=\"data row3 col0\" >0.298262</td>\n",
       "                        <td id=\"T_838b7b64_925a_11eb_a2c0_784f439796cdrow3_col1\" class=\"data row3 col1\" >0.548361</td>\n",
       "                        <td id=\"T_838b7b64_925a_11eb_a2c0_784f439796cdrow3_col2\" class=\"data row3 col2\" >1.438738</td>\n",
       "                        <td id=\"T_838b7b64_925a_11eb_a2c0_784f439796cdrow3_col3\" class=\"data row3 col3\" >3.023577</td>\n",
       "                        <td id=\"T_838b7b64_925a_11eb_a2c0_784f439796cdrow3_col4\" class=\"data row3 col4\" >7.640942</td>\n",
       "                        <td id=\"T_838b7b64_925a_11eb_a2c0_784f439796cdrow3_col5\" class=\"data row3 col5\" >17.186868</td>\n",
       "                        <td id=\"T_838b7b64_925a_11eb_a2c0_784f439796cdrow3_col6\" class=\"data row3 col6\" >236.413384</td>\n",
       "            </tr>\n",
       "    </tbody></table>"
      ],
      "text/plain": [
       "<pandas.io.formats.style.Styler at 0x7fd15eb604a8>"
      ]
     },
     "execution_count": 4,
     "metadata": {},
     "output_type": "execute_result"
    }
   ],
   "source": [
    "dfs[0].style.set_table_attributes('style=\"font-size: 15px\"')"
   ]
  },
  {
   "cell_type": "markdown",
   "metadata": {},
   "source": [
    "## Absolute relative errors with batch size of 128 during the first training part"
   ]
  },
  {
   "cell_type": "code",
   "execution_count": 5,
   "metadata": {},
   "outputs": [
    {
     "data": {
      "text/html": [
       "<style  type=\"text/css\" >\n",
       "</style><table id=\"T_83907de4_925a_11eb_8927_784f439796cd\" style=\"font-size: 15px\"><thead>    <tr>        <th class=\"index_name level0\" >Optimizer / percentile</th>        <th class=\"col_heading level0 col0\" >0.5</th>        <th class=\"col_heading level0 col1\" >0.75</th>        <th class=\"col_heading level0 col2\" >0.95</th>        <th class=\"col_heading level0 col3\" >0.99</th>        <th class=\"col_heading level0 col4\" >0.999</th>        <th class=\"col_heading level0 col5\" >0.9999</th>        <th class=\"col_heading level0 col6\" >1.0</th>    </tr></thead><tbody>\n",
       "                <tr>\n",
       "                        <th id=\"T_83907de4_925a_11eb_8927_784f439796cdlevel0_row0\" class=\"row_heading level0 row0\" >Adam reference</th>\n",
       "                        <td id=\"T_83907de4_925a_11eb_8927_784f439796cdrow0_col0\" class=\"data row0 col0\" >0.178474</td>\n",
       "                        <td id=\"T_83907de4_925a_11eb_8927_784f439796cdrow0_col1\" class=\"data row0 col1\" >0.369853</td>\n",
       "                        <td id=\"T_83907de4_925a_11eb_8927_784f439796cdrow0_col2\" class=\"data row0 col2\" >1.028009</td>\n",
       "                        <td id=\"T_83907de4_925a_11eb_8927_784f439796cdrow0_col3\" class=\"data row0 col3\" >2.438705</td>\n",
       "                        <td id=\"T_83907de4_925a_11eb_8927_784f439796cdrow0_col4\" class=\"data row0 col4\" >7.551112</td>\n",
       "                        <td id=\"T_83907de4_925a_11eb_8927_784f439796cdrow0_col5\" class=\"data row0 col5\" >18.095318</td>\n",
       "                        <td id=\"T_83907de4_925a_11eb_8927_784f439796cdrow0_col6\" class=\"data row0 col6\" >388.898734</td>\n",
       "            </tr>\n",
       "            <tr>\n",
       "                        <th id=\"T_83907de4_925a_11eb_8927_784f439796cdlevel0_row1\" class=\"row_heading level0 row1\" >Adam</th>\n",
       "                        <td id=\"T_83907de4_925a_11eb_8927_784f439796cdrow1_col0\" class=\"data row1 col0\" >0.219357</td>\n",
       "                        <td id=\"T_83907de4_925a_11eb_8927_784f439796cdrow1_col1\" class=\"data row1 col1\" >0.445389</td>\n",
       "                        <td id=\"T_83907de4_925a_11eb_8927_784f439796cdrow1_col2\" class=\"data row1 col2\" >1.251674</td>\n",
       "                        <td id=\"T_83907de4_925a_11eb_8927_784f439796cdrow1_col3\" class=\"data row1 col3\" >2.816530</td>\n",
       "                        <td id=\"T_83907de4_925a_11eb_8927_784f439796cdrow1_col4\" class=\"data row1 col4\" >7.720693</td>\n",
       "                        <td id=\"T_83907de4_925a_11eb_8927_784f439796cdrow1_col5\" class=\"data row1 col5\" >18.839204</td>\n",
       "                        <td id=\"T_83907de4_925a_11eb_8927_784f439796cdrow1_col6\" class=\"data row1 col6\" >93.069545</td>\n",
       "            </tr>\n",
       "            <tr>\n",
       "                        <th id=\"T_83907de4_925a_11eb_8927_784f439796cdlevel0_row2\" class=\"row_heading level0 row2\" >AdamW</th>\n",
       "                        <td id=\"T_83907de4_925a_11eb_8927_784f439796cdrow2_col0\" class=\"data row2 col0\" >0.198392</td>\n",
       "                        <td id=\"T_83907de4_925a_11eb_8927_784f439796cdrow2_col1\" class=\"data row2 col1\" >0.424861</td>\n",
       "                        <td id=\"T_83907de4_925a_11eb_8927_784f439796cdrow2_col2\" class=\"data row2 col2\" >1.244589</td>\n",
       "                        <td id=\"T_83907de4_925a_11eb_8927_784f439796cdrow2_col3\" class=\"data row2 col3\" >2.890164</td>\n",
       "                        <td id=\"T_83907de4_925a_11eb_8927_784f439796cdrow2_col4\" class=\"data row2 col4\" >7.756074</td>\n",
       "                        <td id=\"T_83907de4_925a_11eb_8927_784f439796cdrow2_col5\" class=\"data row2 col5\" >18.896796</td>\n",
       "                        <td id=\"T_83907de4_925a_11eb_8927_784f439796cdrow2_col6\" class=\"data row2 col6\" >65.272836</td>\n",
       "            </tr>\n",
       "            <tr>\n",
       "                        <th id=\"T_83907de4_925a_11eb_8927_784f439796cdlevel0_row3\" class=\"row_heading level0 row3\" >QHAdam</th>\n",
       "                        <td id=\"T_83907de4_925a_11eb_8927_784f439796cdrow3_col0\" class=\"data row3 col0\" >0.359358</td>\n",
       "                        <td id=\"T_83907de4_925a_11eb_8927_784f439796cdrow3_col1\" class=\"data row3 col1\" >0.796853</td>\n",
       "                        <td id=\"T_83907de4_925a_11eb_8927_784f439796cdrow3_col2\" class=\"data row3 col2\" >2.492686</td>\n",
       "                        <td id=\"T_83907de4_925a_11eb_8927_784f439796cdrow3_col3\" class=\"data row3 col3\" >5.306227</td>\n",
       "                        <td id=\"T_83907de4_925a_11eb_8927_784f439796cdrow3_col4\" class=\"data row3 col4\" >12.649679</td>\n",
       "                        <td id=\"T_83907de4_925a_11eb_8927_784f439796cdrow3_col5\" class=\"data row3 col5\" >23.488396</td>\n",
       "                        <td id=\"T_83907de4_925a_11eb_8927_784f439796cdrow3_col6\" class=\"data row3 col6\" >68.019882</td>\n",
       "            </tr>\n",
       "    </tbody></table>"
      ],
      "text/plain": [
       "<pandas.io.formats.style.Styler at 0x7fd016c7bf98>"
      ]
     },
     "execution_count": 5,
     "metadata": {},
     "output_type": "execute_result"
    }
   ],
   "source": [
    "dfs[1].style.set_table_attributes('style=\"font-size: 15px\"')"
   ]
  },
  {
   "cell_type": "markdown",
   "metadata": {},
   "source": [
    "# Mean training times per epoches "
   ]
  },
  {
   "cell_type": "code",
   "execution_count": 6,
   "metadata": {},
   "outputs": [],
   "source": [
    "times = []\n",
    "for batch_size in [32, 128]:\n",
    "    for optimizer in optimizers:\n",
    "        file_end = '_' + optimizer.__class__.__name__ + '_' + str(batch_size) \n",
    "\n",
    "        predictions_list= []\n",
    "        for model_part in [1,2,3,4,5,6]:\n",
    "            predictions_list.append(pd.read_csv(wd + path_seperator + 'data' + path_seperator + 'neural_network_weights' + path_seperator + 'rbergomi' + path_seperator \n",
    "                                         + 'epoch_times' + path_seperator + 'rbergomi_model_' + str(model_part) + file_end + '_mean_epoch_time.csv', delimiter=\",\", header = None, skiprows=1))\n",
    "    \n",
    "        times.append(pd.concat(predictions_list))"
   ]
  },
  {
   "cell_type": "markdown",
   "metadata": {},
   "source": [
    "## Training time evaluation of both parts of the training with the adam optimizer with batch size of 32 for the first training part"
   ]
  },
  {
   "cell_type": "code",
   "execution_count": 7,
   "metadata": {},
   "outputs": [
    {
     "data": {
      "text/html": [
       "<div>\n",
       "<style scoped>\n",
       "    .dataframe tbody tr th:only-of-type {\n",
       "        vertical-align: middle;\n",
       "    }\n",
       "\n",
       "    .dataframe tbody tr th {\n",
       "        vertical-align: top;\n",
       "    }\n",
       "\n",
       "    .dataframe thead th {\n",
       "        text-align: right;\n",
       "    }\n",
       "</style>\n",
       "<table border=\"1\" class=\"dataframe\">\n",
       "  <thead>\n",
       "    <tr style=\"text-align: right;\">\n",
       "      <th>Model part</th>\n",
       "      <th>Training part 1</th>\n",
       "      <th>Training modelpart 2</th>\n",
       "    </tr>\n",
       "  </thead>\n",
       "  <tbody>\n",
       "    <tr>\n",
       "      <th>1</th>\n",
       "      <td>38.780025</td>\n",
       "      <td>1.703516</td>\n",
       "    </tr>\n",
       "    <tr>\n",
       "      <th>2</th>\n",
       "      <td>39.698801</td>\n",
       "      <td>1.628800</td>\n",
       "    </tr>\n",
       "    <tr>\n",
       "      <th>3</th>\n",
       "      <td>33.197755</td>\n",
       "      <td>2.529615</td>\n",
       "    </tr>\n",
       "    <tr>\n",
       "      <th>4</th>\n",
       "      <td>37.989159</td>\n",
       "      <td>3.027042</td>\n",
       "    </tr>\n",
       "    <tr>\n",
       "      <th>5</th>\n",
       "      <td>31.428143</td>\n",
       "      <td>1.634130</td>\n",
       "    </tr>\n",
       "    <tr>\n",
       "      <th>6</th>\n",
       "      <td>35.727938</td>\n",
       "      <td>3.728810</td>\n",
       "    </tr>\n",
       "  </tbody>\n",
       "</table>\n",
       "</div>"
      ],
      "text/plain": [
       "Model part  Training part 1  Training modelpart 2\n",
       "1                 38.780025              1.703516\n",
       "2                 39.698801              1.628800\n",
       "3                 33.197755              2.529615\n",
       "4                 37.989159              3.027042\n",
       "5                 31.428143              1.634130\n",
       "6                 35.727938              3.728810"
      ]
     },
     "execution_count": 7,
     "metadata": {},
     "output_type": "execute_result"
    }
   ],
   "source": [
    "df = times[0].reset_index(drop=True)\n",
    "df.columns = ['Training part 1', 'Training modelpart 2']\n",
    "df.columns.name = \"Model part\"\n",
    "df.index = np.arange(1, len(df)+1)\n",
    "df"
   ]
  },
  {
   "cell_type": "code",
   "execution_count": 8,
   "metadata": {},
   "outputs": [
    {
     "name": "stdout",
     "output_type": "stream",
     "text": [
      "Model part\n",
      "Training part 1         36.136970\n",
      "Training modelpart 2     2.375319\n",
      "dtype: float64\n"
     ]
    }
   ],
   "source": [
    "print(np.mean(df))"
   ]
  },
  {
   "cell_type": "markdown",
   "metadata": {},
   "source": [
    "## Training time evaluation of both parts of the training with the adam optimizer with batch size of 128 for the first training part"
   ]
  },
  {
   "cell_type": "code",
   "execution_count": 9,
   "metadata": {},
   "outputs": [
    {
     "data": {
      "text/html": [
       "<div>\n",
       "<style scoped>\n",
       "    .dataframe tbody tr th:only-of-type {\n",
       "        vertical-align: middle;\n",
       "    }\n",
       "\n",
       "    .dataframe tbody tr th {\n",
       "        vertical-align: top;\n",
       "    }\n",
       "\n",
       "    .dataframe thead th {\n",
       "        text-align: right;\n",
       "    }\n",
       "</style>\n",
       "<table border=\"1\" class=\"dataframe\">\n",
       "  <thead>\n",
       "    <tr style=\"text-align: right;\">\n",
       "      <th>Model part</th>\n",
       "      <th>Training part 1</th>\n",
       "      <th>Training part 2</th>\n",
       "    </tr>\n",
       "  </thead>\n",
       "  <tbody>\n",
       "    <tr>\n",
       "      <th>1</th>\n",
       "      <td>12.178476</td>\n",
       "      <td>1.731428</td>\n",
       "    </tr>\n",
       "    <tr>\n",
       "      <th>2</th>\n",
       "      <td>12.811610</td>\n",
       "      <td>1.674868</td>\n",
       "    </tr>\n",
       "    <tr>\n",
       "      <th>3</th>\n",
       "      <td>14.396309</td>\n",
       "      <td>2.892544</td>\n",
       "    </tr>\n",
       "    <tr>\n",
       "      <th>4</th>\n",
       "      <td>14.539418</td>\n",
       "      <td>3.156233</td>\n",
       "    </tr>\n",
       "    <tr>\n",
       "      <th>5</th>\n",
       "      <td>12.827549</td>\n",
       "      <td>1.903525</td>\n",
       "    </tr>\n",
       "    <tr>\n",
       "      <th>6</th>\n",
       "      <td>17.317564</td>\n",
       "      <td>4.972611</td>\n",
       "    </tr>\n",
       "  </tbody>\n",
       "</table>\n",
       "</div>"
      ],
      "text/plain": [
       "Model part  Training part 1  Training part 2\n",
       "1                 12.178476         1.731428\n",
       "2                 12.811610         1.674868\n",
       "3                 14.396309         2.892544\n",
       "4                 14.539418         3.156233\n",
       "5                 12.827549         1.903525\n",
       "6                 17.317564         4.972611"
      ]
     },
     "execution_count": 9,
     "metadata": {},
     "output_type": "execute_result"
    }
   ],
   "source": [
    "df = times[4].reset_index(drop=True)\n",
    "df.columns = ['Training part 1', 'Training part 2']\n",
    "df.columns.name = \"Model part\"\n",
    "df.index = np.arange(1, len(df)+1)\n",
    "df"
   ]
  },
  {
   "cell_type": "code",
   "execution_count": 10,
   "metadata": {},
   "outputs": [
    {
     "name": "stdout",
     "output_type": "stream",
     "text": [
      "Model part\n",
      "Training part 1    14.011821\n",
      "Training part 2     2.721868\n",
      "dtype: float64\n"
     ]
    }
   ],
   "source": [
    "print(np.mean(df))"
   ]
  },
  {
   "cell_type": "markdown",
   "metadata": {},
   "source": [
    "## Training time evaluation of  all models"
   ]
  },
  {
   "cell_type": "code",
   "execution_count": 11,
   "metadata": {},
   "outputs": [
    {
     "data": {
      "text/html": [
       "<div>\n",
       "<style scoped>\n",
       "    .dataframe tbody tr th:only-of-type {\n",
       "        vertical-align: middle;\n",
       "    }\n",
       "\n",
       "    .dataframe tbody tr th {\n",
       "        vertical-align: top;\n",
       "    }\n",
       "\n",
       "    .dataframe thead th {\n",
       "        text-align: right;\n",
       "    }\n",
       "</style>\n",
       "<table border=\"1\" class=\"dataframe\">\n",
       "  <thead>\n",
       "    <tr style=\"text-align: right;\">\n",
       "      <th></th>\n",
       "      <th>optimizer</th>\n",
       "      <th>first batch size</th>\n",
       "      <th>model part 1</th>\n",
       "      <th>model part 2</th>\n",
       "    </tr>\n",
       "  </thead>\n",
       "  <tbody>\n",
       "    <tr>\n",
       "      <th>0</th>\n",
       "      <td>Adam</td>\n",
       "      <td>32</td>\n",
       "      <td>36.136970</td>\n",
       "      <td>2.375319</td>\n",
       "    </tr>\n",
       "    <tr>\n",
       "      <th>1</th>\n",
       "      <td>AdamW</td>\n",
       "      <td>32</td>\n",
       "      <td>36.836511</td>\n",
       "      <td>2.498834</td>\n",
       "    </tr>\n",
       "    <tr>\n",
       "      <th>2</th>\n",
       "      <td>QHAdam</td>\n",
       "      <td>32</td>\n",
       "      <td>38.543118</td>\n",
       "      <td>2.484594</td>\n",
       "    </tr>\n",
       "    <tr>\n",
       "      <th>3</th>\n",
       "      <td>Adam</td>\n",
       "      <td>128</td>\n",
       "      <td>13.493508</td>\n",
       "      <td>2.611904</td>\n",
       "    </tr>\n",
       "    <tr>\n",
       "      <th>4</th>\n",
       "      <td>AdamW</td>\n",
       "      <td>128</td>\n",
       "      <td>14.011821</td>\n",
       "      <td>2.721868</td>\n",
       "    </tr>\n",
       "    <tr>\n",
       "      <th>5</th>\n",
       "      <td>QHAdam</td>\n",
       "      <td>128</td>\n",
       "      <td>14.203553</td>\n",
       "      <td>2.540415</td>\n",
       "    </tr>\n",
       "  </tbody>\n",
       "</table>\n",
       "</div>"
      ],
      "text/plain": [
       "  optimizer  first batch size  model part 1  model part 2\n",
       "0      Adam                32     36.136970      2.375319\n",
       "1     AdamW                32     36.836511      2.498834\n",
       "2    QHAdam                32     38.543118      2.484594\n",
       "3      Adam               128     13.493508      2.611904\n",
       "4     AdamW               128     14.011821      2.721868\n",
       "5    QHAdam               128     14.203553      2.540415"
      ]
     },
     "execution_count": 11,
     "metadata": {},
     "output_type": "execute_result"
    }
   ],
   "source": [
    "time_df = []\n",
    "for t,op,ba in zip(times, optimizers + optimizers, [32,32,32,128,128,128]):\n",
    "    time_df.append([op.__class__.__name__, ba] + np.mean(t).tolist())\n",
    "pd.DataFrame(time_df, columns=[\"optimizer\",\"first batch size\",\"model part 1\",\"model part 2\"])"
   ]
  },
  {
   "cell_type": "code",
   "execution_count": null,
   "metadata": {},
   "outputs": [],
   "source": []
  }
 ],
 "metadata": {
  "anaconda-cloud": {},
  "kernelspec": {
   "display_name": "Python 3",
   "language": "python",
   "name": "python3"
  },
  "language_info": {
   "codemirror_mode": {
    "name": "ipython",
    "version": 3
   },
   "file_extension": ".py",
   "mimetype": "text/x-python",
   "name": "python",
   "nbconvert_exporter": "python",
   "pygments_lexer": "ipython3",
   "version": "3.6.10"
  }
 },
 "nbformat": 4,
 "nbformat_minor": 2
}
